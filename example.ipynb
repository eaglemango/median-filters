{
 "cells": [
  {
   "cell_type": "markdown",
   "metadata": {},
   "source": [
    "# Медианные фильтры"
   ]
  },
  {
   "cell_type": "code",
   "execution_count": 1,
   "metadata": {},
   "outputs": [],
   "source": [
    "import numpy as np\n",
    "from PIL import Image"
   ]
  },
  {
   "cell_type": "markdown",
   "metadata": {},
   "source": [
    "## Подготовка"
   ]
  },
  {
   "cell_type": "code",
   "execution_count": 30,
   "metadata": {},
   "outputs": [],
   "source": [
    "# Загрузим тестовое изображение и представим его в виде np.array\n",
    "image = Image.open(\"samples/Original.bmp\")\n",
    "image = np.array(image)\n",
    "\n",
    "# Для ускорения проверки обрежем исходное изображение\n",
    "SMALLER_SIZE = 100\n",
    "image = image[:SMALLER_SIZE, :SMALLER_SIZE, :]"
   ]
  },
  {
   "cell_type": "code",
   "execution_count": 31,
   "metadata": {},
   "outputs": [],
   "source": [
    "# Будем работать с фильтрами радиуса R\n",
    "R = 25\n",
    "\n",
    "# Соответствующий фильтр будет иметь размер FILTER_SIZE\n",
    "FILTER_SIZE = 2 * R + 1"
   ]
  },
  {
   "cell_type": "markdown",
   "metadata": {},
   "source": [
    "## Реализации\n",
    "\n",
    "В данном блоке будут рассмотрены различные реализации медианных фильтров, а затем будет приведено их сравнение\n",
    "\n",
    "### OpenCV: medianBlur\n",
    "\n",
    "В библиотеке OpenCV уже присутствует реализация медианного фильтра, возьмём её в качестве эталона для проверки самописных алгоритмов"
   ]
  },
  {
   "cell_type": "code",
   "execution_count": 32,
   "metadata": {},
   "outputs": [
    {
     "data": {
      "image/png": "[encoded data removed]",
      "text/plain": [
       "<PIL.Image.Image image mode=RGB size=100x100 at 0x136359400>"
      ]
     },
     "execution_count": 32,
     "metadata": {},
     "output_type": "execute_result"
    }
   ],
   "source": [
    "import cv2\n",
    "\n",
    "blurred_etalon = cv2.medianBlur(image, FILTER_SIZE)\n",
    "\n",
    "# Посмотрим на результат\n",
    "Image.fromarray(blurred_etalon)"
   ]
  },
  {
   "cell_type": "markdown",
   "metadata": {},
   "source": [
    "### Наивный алгоритм\n",
    "\n",
    "Наивный алгоритм заключается в том, что мы для каждого окна фильтра ищем медиану путём сортировки яркостей пикселей"
   ]
  },
  {
   "cell_type": "code",
   "execution_count": 33,
   "metadata": {},
   "outputs": [
    {
     "name": "stderr",
     "output_type": "stream",
     "text": [
      "100%|██████████| 100/100 [00:01<00:00, 72.42it/s]\n"
     ]
    }
   ],
   "source": [
    "from algorithms import NaiveMedianFilter\n",
    "\n",
    "blurred_naive = NaiveMedianFilter().apply(image, R)"
   ]
  },
  {
   "cell_type": "code",
   "execution_count": 34,
   "metadata": {},
   "outputs": [
    {
     "data": {
      "image/png": "[encoded data removed]",
      "text/plain": [
       "<PIL.Image.Image image mode=RGB size=100x100 at 0x13635DF40>"
      ]
     },
     "execution_count": 34,
     "metadata": {},
     "output_type": "execute_result"
    }
   ],
   "source": [
    "# Посмотрим на результат\n",
    "Image.fromarray(blurred_naive)"
   ]
  },
  {
   "cell_type": "code",
   "execution_count": 35,
   "metadata": {},
   "outputs": [
    {
     "name": "stdout",
     "output_type": "stream",
     "text": [
      "Результаты работы алгоритмов совпадают\n"
     ]
    }
   ],
   "source": [
    "# Проверим, что результат работы алгоритма совпал с эталоном\n",
    "assert np.all(np.equal(blurred_etalon, blurred_naive))\n",
    "print(\"Результаты работы алгоритмов совпадают\")"
   ]
  },
  {
   "cell_type": "markdown",
   "metadata": {},
   "source": [
    "### Huang et al.\n",
    "\n",
    "Ссылка на оригинальную статью: https://www.uio.no/studier/emner/matnat/ifi/INF2310/v20/undervisningsmateriale/litteratur/huang-etal-median.pdf\n",
    "\n",
    "Идея алгоритма состоит в использовании гистограммы значений в текущем окне фильтра для быстрого нахождения медианы"
   ]
  },
  {
   "cell_type": "code",
   "execution_count": 254,
   "metadata": {},
   "outputs": [],
   "source": [
    "from algorithms import HuangMedianFilter"
   ]
  },
  {
   "cell_type": "code",
   "execution_count": 255,
   "metadata": {},
   "outputs": [],
   "source": [
    "padded_image = HuangMedianFilter.pad_image(image, R)"
   ]
  },
  {
   "cell_type": "code",
   "execution_count": 256,
   "metadata": {},
   "outputs": [],
   "source": [
    "h, w, c = image.shape\n",
    "\n",
    "hist_values_count = 256"
   ]
  },
  {
   "cell_type": "code",
   "execution_count": 257,
   "metadata": {},
   "outputs": [],
   "source": [
    "th = (FILTER_SIZE ** 2) // 2\n",
    "median = 0\n",
    "\n",
    "result = np.zeros_like(image)"
   ]
  },
  {
   "cell_type": "code",
   "execution_count": 258,
   "metadata": {},
   "outputs": [
    {
     "name": "stderr",
     "output_type": "stream",
     "text": [
      "100%|██████████| 100/100 [00:01<00:00, 89.52it/s]\n",
      "100%|██████████| 100/100 [00:01<00:00, 91.67it/s]\n",
      "100%|██████████| 100/100 [00:01<00:00, 87.12it/s]\n"
     ]
    }
   ],
   "source": [
    "from tqdm import trange\n",
    "\n",
    "for color in [0, 1, 2]:\n",
    "    for i in trange(h):\n",
    "        # Build new histogram for each row\n",
    "        hist = np.zeros(256)\n",
    "\n",
    "        ltmdn = 0\n",
    "        median = 0\n",
    "\n",
    "        for j in range(w):\n",
    "            # Starting window\n",
    "            if j == 0:\n",
    "                # Fill initial histogram\n",
    "                for i_ in range(i, i + FILTER_SIZE):\n",
    "                    for j_ in range(j, j + FILTER_SIZE):\n",
    "                        hist[padded_image[i_, j_, color]] += 1\n",
    "\n",
    "                # Find starting median\n",
    "                median = 0\n",
    "                while ltmdn + hist[median] <= th:\n",
    "                    ltmdn += hist[median]\n",
    "                    median += 1\n",
    "\n",
    "                result[i, j, color] = median\n",
    "                \n",
    "            if j + 1 == w:\n",
    "                break\n",
    "\n",
    "            # Move to the next window j+1\n",
    "            prev_left_column = padded_image[i:i+FILTER_SIZE, j, color]\n",
    "            next_right_column = padded_image[i:i+FILTER_SIZE, j+FILTER_SIZE, color]\n",
    "\n",
    "            for i_ in range(0, 0 + FILTER_SIZE):\n",
    "                value = prev_left_column[i_]\n",
    "\n",
    "                hist[value] -= 1\n",
    "                if value < median:\n",
    "                    ltmdn -= 1\n",
    "\n",
    "                value = next_right_column[i_]\n",
    "\n",
    "                hist[value] += 1\n",
    "                if value < median:\n",
    "                    ltmdn += 1\n",
    "\n",
    "            if ltmdn > th:\n",
    "                median -= 1\n",
    "                ltmdn -= hist[median]\n",
    "\n",
    "                while ltmdn > th:\n",
    "                    median -= 1\n",
    "                    ltmdn -= hist[median]\n",
    "            else:\n",
    "                while ltmdn + hist[median] <= th:\n",
    "                    ltmdn += hist[median]\n",
    "                    median += 1\n",
    "\n",
    "            # Median is correct\n",
    "            result[i, j + 1, color] = median"
   ]
  },
  {
   "cell_type": "code",
   "execution_count": 259,
   "metadata": {},
   "outputs": [
    {
     "data": {
      "image/png": "[encoded data removed]",
      "text/plain": [
       "<PIL.Image.Image image mode=RGB size=100x100 at 0x1363A83A0>"
      ]
     },
     "execution_count": 259,
     "metadata": {},
     "output_type": "execute_result"
    }
   ],
   "source": [
    "Image.fromarray(result)"
   ]
  },
  {
   "cell_type": "code",
   "execution_count": 260,
   "metadata": {},
   "outputs": [
    {
     "name": "stdout",
     "output_type": "stream",
     "text": [
      "Результаты работы алгоритмов совпадают\n"
     ]
    }
   ],
   "source": [
    "# Проверим, что результат работы алгоритма совпал с эталоном\n",
    "assert np.all(np.equal(blurred_etalon, result))\n",
    "print(\"Результаты работы алгоритмов совпадают\")"
   ]
  },
  {
   "cell_type": "code",
   "execution_count": 219,
   "metadata": {},
   "outputs": [
    {
     "data": {
      "image/png": "[encoded data removed]",
      "text/plain": [
       "<PIL.Image.Image image mode=RGB size=100x100 at 0x136403760>"
      ]
     },
     "execution_count": 219,
     "metadata": {},
     "output_type": "execute_result"
    }
   ],
   "source": [
    "Image.fromarray(blurred_etalon)"
   ]
  },
  {
   "cell_type": "code",
   "execution_count": 183,
   "metadata": {},
   "outputs": [
    {
     "data": {
      "text/plain": [
       "array([[ True,  True,  True, ..., False, False, False],\n",
       "       [ True,  True,  True, ..., False, False, False],\n",
       "       [ True,  True,  True, ..., False, False, False],\n",
       "       ...,\n",
       "       [ True,  True,  True, ...,  True, False, False],\n",
       "       [ True,  True,  True, ..., False, False, False],\n",
       "       [ True,  True,  True, ..., False, False, False]])"
      ]
     },
     "execution_count": 183,
     "metadata": {},
     "output_type": "execute_result"
    }
   ],
   "source": [
    "np.equal(blurred_etalon[:, :, 0], result[:, :, 0])"
   ]
  },
  {
   "cell_type": "code",
   "execution_count": 116,
   "metadata": {},
   "outputs": [
    {
     "data": {
      "text/plain": [
       "(100, 100, 3)"
      ]
     },
     "execution_count": 116,
     "metadata": {},
     "output_type": "execute_result"
    }
   ],
   "source": [
    "blurred_etalon.shape"
   ]
  },
  {
   "cell_type": "code",
   "execution_count": 117,
   "metadata": {},
   "outputs": [
    {
     "data": {
      "text/plain": [
       "30000"
      ]
     },
     "execution_count": 117,
     "metadata": {},
     "output_type": "execute_result"
    }
   ],
   "source": [
    "100 * 100 * 3"
   ]
  },
  {
   "cell_type": "code",
   "execution_count": null,
   "metadata": {},
   "outputs": [],
   "source": []
  }
 ],
 "metadata": {
  "kernelspec": {
   "display_name": "Python 3 (ipykernel)",
   "language": "python",
   "name": "python3"
  },
  "language_info": {
   "codemirror_mode": {
    "name": "ipython",
    "version": 3
   },
   "file_extension": ".py",
   "mimetype": "text/x-python",
   "name": "python",
   "nbconvert_exporter": "python",
   "pygments_lexer": "ipython3",
   "version": "3.9.8"
  }
 },
 "nbformat": 4,
 "nbformat_minor": 1
}